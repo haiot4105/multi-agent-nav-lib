{
 "cells": [
  {
   "cell_type": "code",
   "execution_count": 1,
   "metadata": {},
   "outputs": [],
   "source": [
    "import sys\n",
    "sys.path.append('../')\n",
    "import numpy as np\n",
    "import manavlib.io.xml_io as xml_io\n",
    "import manavlib.io.movingai_io as mai_io\n",
    "import manavlib.common.params as params\n",
    "import manavlib.gen.tasks as agents\n",
    "import manavlib.gen.maps as grid\n",
    "import random"
   ]
  },
  {
   "cell_type": "markdown",
   "metadata": {},
   "source": [
    "## Check Grid Map File"
   ]
  },
  {
   "cell_type": "code",
   "execution_count": 2,
   "metadata": {},
   "outputs": [],
   "source": [
    "moving_ai_file = \"../xml-examples/random-32-32-10.map\"\n",
    "map_file = \"../xml-examples/map.xml\"\n",
    "h_init, w_init, occupancy_grid_init = mai_io.read_map_file(moving_ai_file)\n",
    "cell_size_init = 1.0\n",
    "xml_io.create_map_file(map_file, occupancy_grid_init, cell_size_init)"
   ]
  },
  {
   "cell_type": "code",
   "execution_count": 3,
   "metadata": {},
   "outputs": [
    {
     "name": "stdout",
     "output_type": "stream",
     "text": [
      "OK\n"
     ]
    }
   ],
   "source": [
    "h, w, cell_size, occupancy_grid = xml_io.read_xml_map(map_file)\n",
    "assert h == h_init\n",
    "assert w == w_init\n",
    "assert cell_size == cell_size_init\n",
    "assert np.all(occupancy_grid == occupancy_grid_init)\n",
    "print(\"OK\")"
   ]
  },
  {
   "cell_type": "markdown",
   "metadata": {},
   "source": [
    "## Check Agents Files"
   ]
  },
  {
   "cell_type": "code",
   "execution_count": 4,
   "metadata": {},
   "outputs": [],
   "source": [
    "agent_params_types = set()\n",
    "queue = [params.BaseAgentParams]\n",
    "while queue:\n",
    "    parent = queue.pop()\n",
    "    for child in parent.__subclasses__():\n",
    "        if child not in agent_params_types:\n",
    "            agent_params_types.add(child)\n",
    "            queue.append(child)"
   ]
  },
  {
   "cell_type": "code",
   "execution_count": 5,
   "metadata": {},
   "outputs": [
    {
     "name": "stdout",
     "output_type": "stream",
     "text": [
      "OK\n"
     ]
    }
   ],
   "source": [
    "\n",
    "for agent_type in agent_params_types:\n",
    "    default_agent_init = agent_type()\n",
    "\n",
    "    for key, value in default_agent_init.__dict__.items():\n",
    "        value_type = type(value)\n",
    "        default_agent_init.__dict__[key] = value_type(random.randint(0, 100))\n",
    "\n",
    "    agents_file = f\"../xml-examples/default_params_{agent_type.model_name}_task.xml\"\n",
    "    start_states_init, goal_states_init = agents.create_random_empty_instance(10, 10, 10, cell_size, empty_cells_around = False, discrete=issubclass(agent_type, params.BaseDiscreteAgentParams))\n",
    "    xml_io.create_agents_file(agents_file, start_states_init, goal_states_init, default_agent_init)\n",
    "    default_agent, start_states, goal_states, agent_params = xml_io.read_xml_agents(agents_file)\n",
    "\n",
    "    assert np.all(start_states == start_states_init)\n",
    "    assert np.all(goal_states == goal_states_init)\n",
    "\n",
    "    for key, value in default_agent_init.__dict__.items():\n",
    "        assert default_agent_init.__dict__[key] == default_agent.__dict__[key]\n",
    "\n",
    "print(\"OK\")"
   ]
  },
  {
   "cell_type": "code",
   "execution_count": 6,
   "metadata": {},
   "outputs": [
    {
     "name": "stdout",
     "output_type": "stream",
     "text": [
      "OK\n"
     ]
    }
   ],
   "source": [
    "\n",
    "agents_params_init = []\n",
    "for agent_type in agent_params_types:\n",
    "    \n",
    "    if agent_type is params.BaseDiscreteAgentParams:\n",
    "        continue\n",
    "    \n",
    "    agent_init = agent_type()\n",
    "    for key, value in agent_init.__dict__.items():\n",
    "        value_type = type(value)\n",
    "        agent_init.__dict__[key] = value_type(random.randint(0, 100))\n",
    "    agents_params_init.append(agent_init)\n",
    "default_agent_init = agents_params_init[0]\n",
    "agents_file = f\"../xml-examples/all_custom_params_task.xml\"\n",
    "start_states_init, goal_states_init = agents.create_random_empty_instance(len(agents_params_init), 100, 100, cell_size, empty_cells_around = False, discrete=False)\n",
    "xml_io.create_agents_file(agents_file, start_states_init, goal_states_init, default_agent_init, agents_params_init)\n",
    "default_agent, start_states, goal_states, agent_params = xml_io.read_xml_agents(agents_file)\n",
    "\n",
    "assert np.all(start_states == start_states_init)\n",
    "assert np.all(goal_states == goal_states_init)\n",
    "\n",
    "for key, value in default_agent_init.__dict__.items():\n",
    "    assert default_agent_init.__dict__[key] == default_agent.__dict__[key]\n",
    "\n",
    "for agent, agent_init in zip(agents_params_init, agents_params_init):\n",
    "    for key, value in agent_init.__dict__.items():\n",
    "        assert agent_init.__dict__[key] == agent.__dict__[key]\n",
    "\n",
    "print(\"OK\")"
   ]
  },
  {
   "cell_type": "markdown",
   "metadata": {},
   "source": [
    "## Check Config File"
   ]
  },
  {
   "cell_type": "code",
   "execution_count": 7,
   "metadata": {},
   "outputs": [],
   "source": [
    "class TestAlgParams(params.BaseAlgParams):\n",
    "    alg_name = \"test_alg\"\n",
    "\n",
    "    def __init__(self):\n",
    "        self.a_param = 0\n",
    "        self.b_param = 0.0\n",
    "\n",
    "    def __str__(self) -> str:\n",
    "        return self.alg_name + \": \" + str(self.__dict__)\n",
    "    \n",
    "    def __repr__(self) -> str:\n",
    "        return self.alg_name + \": \" + str(self.__dict__)\n",
    "    \n",
    "    \n",
    "class NewExperimentParams(params.ExperimentParams):\n",
    "    def __init__(self) -> None:\n",
    "        super().__init__()\n",
    "        self.some_param1 = 0\n",
    "        self.some_param2 = 0.0\n",
    "    \n",
    "params.ExperimentParams = NewExperimentParams"
   ]
  },
  {
   "cell_type": "code",
   "execution_count": 8,
   "metadata": {},
   "outputs": [
    {
     "name": "stdout",
     "output_type": "stream",
     "text": [
      "{'timestep': 0.0, 'xy_goal_tolerance': 0.0, 'max_steps': 0, 'some_param1': 0, 'some_param2': 0.0}\n"
     ]
    }
   ],
   "source": [
    "config_file = \"../xml-examples/config.xml\"\n",
    "\n",
    "exp_params_init = params.ExperimentParams()\n",
    "\n",
    "print(params.ExperimentParams().__dict__)\n",
    "for key, value in exp_params_init.__dict__.items():\n",
    "    value_type = type(value)\n",
    "    exp_params_init.__dict__[key] = value_type(random.randint(0, 100))\n",
    "\n",
    "alg_params_init = TestAlgParams()\n",
    "for key, value in alg_params_init.__dict__.items():\n",
    "    value_type = type(value)\n",
    "    alg_params_init.__dict__[key] = value_type(random.randint(0, 100))\n",
    "\n",
    "xml_io.create_config_file(config_file, alg_params_init, exp_params_init)"
   ]
  },
  {
   "cell_type": "code",
   "execution_count": 9,
   "metadata": {},
   "outputs": [
    {
     "name": "stdout",
     "output_type": "stream",
     "text": [
      "OK\n"
     ]
    }
   ],
   "source": [
    "exp_params, alg_params = xml_io.read_xml_config(config_file)\n",
    "\n",
    "for key, value in exp_params_init.__dict__.items():\n",
    "    assert exp_params_init.__dict__[key] == exp_params.__dict__[key]\n",
    "    \n",
    "for key, value in alg_params_init.__dict__.items():\n",
    "    assert alg_params_init.__dict__[key] == alg_params.__dict__[key]\n",
    "\n",
    "print(\"OK\")"
   ]
  }
 ],
 "metadata": {
  "kernelspec": {
   "display_name": "base",
   "language": "python",
   "name": "python3"
  },
  "language_info": {
   "codemirror_mode": {
    "name": "ipython",
    "version": 3
   },
   "file_extension": ".py",
   "mimetype": "text/x-python",
   "name": "python",
   "nbconvert_exporter": "python",
   "pygments_lexer": "ipython3",
   "version": "3.11.7"
  }
 },
 "nbformat": 4,
 "nbformat_minor": 2
}
