{
 "cells": [
  {
   "cell_type": "code",
   "execution_count": 1,
   "metadata": {},
   "outputs": [],
   "source": [
    "import sys\n",
    "sys.path.append('../')\n",
    "import numpy as np\n",
    "import manavlib.io.xml_io as xml_io\n",
    "import manavlib.io.movingai_io as mai_io\n",
    "import manavlib.common.params as params\n",
    "import manavlib.gen.tasks as agents\n",
    "import manavlib.gen.maps as grid\n",
    "import manavlib.gen.polygon as polygon\n",
    "\n",
    "import random"
   ]
  },
  {
   "cell_type": "markdown",
   "metadata": {},
   "source": [
    "## Check Grid Map File"
   ]
  },
  {
   "cell_type": "code",
   "execution_count": 2,
   "metadata": {},
   "outputs": [],
   "source": [
    "moving_ai_file = \"../xml-examples/random-32-32-10.map\"\n",
    "map_file = \"../xml-examples/random-32-32-10_map.xml\"\n",
    "h_init, w_init, occupancy_grid_init = mai_io.read_map_file(moving_ai_file)\n",
    "cell_size_init = 1.0\n",
    "obstacle_init = polygon.compute_poligons(occupancy_grid_init, cell_size_init)\n",
    "xml_io.create_map_file(map_file, occupancy_grid_init, cell_size_init, obstacle_init)"
   ]
  },
  {
   "cell_type": "code",
   "execution_count": 3,
   "metadata": {},
   "outputs": [
    {
     "name": "stdout",
     "output_type": "stream",
     "text": [
      "OK\n"
     ]
    }
   ],
   "source": [
    "h, w, cell_size, occupancy_grid, obstacle = xml_io.read_xml_map(map_file)\n",
    "assert h == h_init\n",
    "assert w == w_init\n",
    "assert cell_size == cell_size_init\n",
    "assert np.all(occupancy_grid == occupancy_grid_init)\n",
    "\n",
    "for i in range(len(obstacle)):\n",
    "    for j in range(len(obstacle[i])):\n",
    "        assert np.all(obstacle[i][j] == obstacle_init[i][j])\n",
    "    \n",
    "print(\"OK\")"
   ]
  },
  {
   "cell_type": "markdown",
   "metadata": {},
   "source": [
    "## Check polygon generation"
   ]
  },
  {
   "cell_type": "code",
   "execution_count": 14,
   "metadata": {},
   "outputs": [],
   "source": [
    "moving_ai_file = \"../xml-examples/warehouse-10-20-10-2-1.map\"\n",
    "map_file = \"../xml-examples/warehouse-10-20-10-2-1_map.xml\"\n",
    "h_init, w_init, occupancy_grid_init = mai_io.read_map_file(moving_ai_file)\n",
    "cell_size_init = 1.0\n",
    "obstacle_init = polygon.compute_poligons(occupancy_grid_init, cell_size_init)\n",
    "assert len(obstacle_init) == 20 * 10 + 2 + 1 # 20 x 10 individual shelves + 2 polygons of boundary wall (outer and inner) + 1 global outer contour\n",
    "\n",
    "xml_io.create_map_file(map_file, occupancy_grid_init, cell_size_init, obstacle_init)\n"
   ]
  },
  {
   "cell_type": "markdown",
   "metadata": {},
   "source": [
    "## Check Agents Files"
   ]
  },
  {
   "cell_type": "code",
   "execution_count": 5,
   "metadata": {},
   "outputs": [],
   "source": [
    "class UncertaintyDiffDriveAgentParams(params.DiffDriveAgentParams):\n",
    "    model_name = \"unc_diff_drive\"\n",
    "\n",
    "    def __init__(self):\n",
    "        super().__init__()\n",
    "        self.control_noise_std = np.zeros(\n",
    "            0, np.float64\n",
    "        )"
   ]
  },
  {
   "cell_type": "code",
   "execution_count": 6,
   "metadata": {},
   "outputs": [],
   "source": [
    "agent_params_types = set()\n",
    "queue = [params.BaseAgentParams]\n",
    "while queue:\n",
    "    parent = queue.pop()\n",
    "    for child in parent.__subclasses__():\n",
    "        if child not in agent_params_types:\n",
    "            agent_params_types.add(child)\n",
    "            queue.append(child)"
   ]
  },
  {
   "cell_type": "code",
   "execution_count": 7,
   "metadata": {},
   "outputs": [
    {
     "name": "stdout",
     "output_type": "stream",
     "text": [
      "OK\n"
     ]
    }
   ],
   "source": [
    "\n",
    "for agent_type in agent_params_types:\n",
    "    default_agent_init = agent_type()\n",
    "\n",
    "    for key, value in default_agent_init.__dict__.items():\n",
    "        value_type = type(value)\n",
    "        if value_type is int or value_type is float:\n",
    "            default_agent_init.__dict__[key] = value_type(random.randint(0, 100))\n",
    "        if value_type is type(np.zeros(0)):\n",
    "            default_agent_init.__dict__[key] = np.random.normal(0, 1, (3, 3))\n",
    "\n",
    "    agents_file = f\"../xml-examples/default_params_{agent_type.model_name}_task.xml\"\n",
    "    start_states_init, goal_states_init = agents.create_random_empty_instance(10, 10, 10, cell_size, empty_cells_around = False, discrete=issubclass(agent_type, params.BaseDiscreteAgentParams))\n",
    "    xml_io.create_agents_file(agents_file, start_states_init, goal_states_init, default_agent_init)\n",
    "    default_agent, start_states, goal_states, agent_params = xml_io.read_xml_agents(agents_file)\n",
    "\n",
    "    assert np.all(start_states == start_states_init)\n",
    "    assert np.all(goal_states == goal_states_init)\n",
    "\n",
    "    for key, value in default_agent_init.__dict__.items():\n",
    "        assert np.all(default_agent_init.__dict__[key] == default_agent.__dict__[key])\n",
    "\n",
    "print(\"OK\")"
   ]
  },
  {
   "cell_type": "code",
   "execution_count": 8,
   "metadata": {},
   "outputs": [
    {
     "name": "stdout",
     "output_type": "stream",
     "text": [
      "OK\n"
     ]
    }
   ],
   "source": [
    "\n",
    "agents_params_init = []\n",
    "for agent_type in agent_params_types:\n",
    "    \n",
    "    if agent_type is params.BaseDiscreteAgentParams:\n",
    "        continue\n",
    "    \n",
    "    agent_init = agent_type()\n",
    "    for key, value in agent_init.__dict__.items():\n",
    "        value_type = type(value)\n",
    "        agent_init.__dict__[key] = value_type(random.randint(0, 100))\n",
    "    agents_params_init.append(agent_init)\n",
    "default_agent_init = agents_params_init[0]\n",
    "agents_file = f\"../xml-examples/all_custom_params_task.xml\"\n",
    "start_states_init, goal_states_init = agents.create_random_empty_instance(len(agents_params_init), 100, 100, cell_size, empty_cells_around = False, discrete=False)\n",
    "xml_io.create_agents_file(agents_file, start_states_init, goal_states_init, default_agent_init, agents_params_init)\n",
    "default_agent, start_states, goal_states, agent_params = xml_io.read_xml_agents(agents_file)\n",
    "\n",
    "assert np.all(start_states == start_states_init)\n",
    "assert np.all(goal_states == goal_states_init)\n",
    "\n",
    "for key, value in default_agent_init.__dict__.items():\n",
    "    assert np.all(default_agent_init.__dict__[key] == default_agent.__dict__[key])\n",
    "\n",
    "for agent, agent_init in zip(agents_params_init, agents_params_init):\n",
    "    for key, value in agent_init.__dict__.items():\n",
    "        assert np.all(agent_init.__dict__[key] == agent.__dict__[key])\n",
    "\n",
    "print(\"OK\")"
   ]
  },
  {
   "cell_type": "markdown",
   "metadata": {},
   "source": [
    "## Check Config File"
   ]
  },
  {
   "cell_type": "code",
   "execution_count": 9,
   "metadata": {},
   "outputs": [],
   "source": [
    "class TestAlgParams(params.BaseAlgParams):\n",
    "    alg_name = \"test_alg\"\n",
    "\n",
    "    def __init__(self):\n",
    "        self.a_param = 0\n",
    "        self.b_param = 0.0\n",
    "        self.c_param = False\n",
    "        self.d_param = \"abc\"\n",
    "        self.array_param = np.zeros(0)\n",
    "        self.matrix_param = np.zeros(0)\n",
    "        \n",
    "        \n",
    "        # self.array_param = np.array([1, 2, 3, 4], dtype=np.float64)\n",
    "        # self.matrix_param = np.full((2, 3), -1, dtype=np.float64)\n",
    "        \n",
    "\n",
    "    def __str__(self) -> str:\n",
    "        return self.alg_name + \": \" + str(self.__dict__)\n",
    "    \n",
    "    def __repr__(self) -> str:\n",
    "        return self.alg_name + \": \" + str(self.__dict__)\n",
    "    \n",
    "\n",
    "class TestAlgParams2(params.BaseAlgParams):\n",
    "    alg_name = \"test2_alg\"\n",
    "\n",
    "    def __init__(self):\n",
    "        self.a_param = 0\n",
    "        self.b_param = 0.0\n",
    "        self.c_param = False\n",
    "        self.d_param = \"abc\"\n",
    "        \n",
    "\n",
    "    def __str__(self) -> str:\n",
    "        return self.alg_name + \": \" + str(self.__dict__)\n",
    "    \n",
    "    def __repr__(self) -> str:\n",
    "        return self.alg_name + \": \" + str(self.__dict__)\n",
    "    \n",
    "    \n",
    "class NewExperimentParams(params.ExperimentParams):\n",
    "    def __init__(self) -> None:\n",
    "        super().__init__()\n",
    "        self.some_param1 = 0\n",
    "        self.some_param2 = 0.0\n",
    "        self.c_param = True\n",
    "        self.d_param = \"abcd\"\n",
    "        \n",
    "    \n",
    "params.ExperimentParams = NewExperimentParams"
   ]
  },
  {
   "cell_type": "code",
   "execution_count": 10,
   "metadata": {},
   "outputs": [
    {
     "name": "stdout",
     "output_type": "stream",
     "text": [
      "{'timestep': 0.0, 'xy_goal_tolerance': 0.0, 'max_steps': 0, 'some_param1': 0, 'some_param2': 0.0, 'c_param': True, 'd_param': 'abcd'}\n",
      "test_alg: {'a_param': 75, 'b_param': 20.0, 'c_param': False, 'd_param': 'abc', 'array_param': array([1., 2., 3., 4.]), 'matrix_param': array([[-1., -1., -1.],\n",
      "       [-1., -1., -1.]])}\n"
     ]
    }
   ],
   "source": [
    "config_file = \"../xml-examples/config.xml\"\n",
    "\n",
    "exp_params_init = params.ExperimentParams()\n",
    "\n",
    "print(params.ExperimentParams().__dict__)\n",
    "for key, value in exp_params_init.__dict__.items():\n",
    "    value_type = type(value)\n",
    "    if value_type is int or value_type is float:\n",
    "        exp_params_init.__dict__[key] = value_type(random.randint(0, 100))\n",
    "\n",
    "alg_params_init = TestAlgParams()\n",
    "for key, value in alg_params_init.__dict__.items():\n",
    "    value_type = type(value)\n",
    "    if value_type is int or value_type is float:\n",
    "        alg_params_init.__dict__[key] = value_type(random.randint(0, 100))\n",
    "\n",
    "alg_params_init.array_param = np.array([1, 2, 3, 4], dtype=np.float64)\n",
    "alg_params_init.matrix_param = np.full((2, 3), -1, dtype=np.float64)\n",
    "\n",
    "print(alg_params_init)\n",
    "xml_io.create_config_file(config_file, alg_params_init, exp_params_init)"
   ]
  },
  {
   "cell_type": "code",
   "execution_count": 11,
   "metadata": {},
   "outputs": [
    {
     "name": "stdout",
     "output_type": "stream",
     "text": [
      "test_alg: {'a_param': 75, 'b_param': 20.0, 'c_param': False, 'd_param': 'abc', 'array_param': array([1., 2., 3., 4.]), 'matrix_param': array([[-1., -1., -1.],\n",
      "       [-1., -1., -1.]])}\n",
      "OK\n"
     ]
    }
   ],
   "source": [
    "exp_params, alg_params = xml_io.read_xml_config(config_file)\n",
    "print(alg_params)\n",
    "\n",
    "for key, value in exp_params_init.__dict__.items():\n",
    "    assert np.all(exp_params_init.__dict__[key] == exp_params.__dict__[key])\n",
    "    \n",
    "for key, value in alg_params_init.__dict__.items():\n",
    "    assert np.all(alg_params_init.__dict__[key] == alg_params.__dict__[key])\n",
    "\n",
    "print(\"OK\")"
   ]
  },
  {
   "cell_type": "code",
   "execution_count": 12,
   "metadata": {},
   "outputs": [
    {
     "name": "stdout",
     "output_type": "stream",
     "text": [
      "{'timestep': 0.0, 'xy_goal_tolerance': 0.0, 'max_steps': 0, 'some_param1': 0, 'some_param2': 0.0, 'c_param': True, 'd_param': 'abcd'}\n"
     ]
    }
   ],
   "source": [
    "config_file = \"../xml-examples/config_several.xml\"\n",
    "\n",
    "exp_params_init = params.ExperimentParams()\n",
    "\n",
    "print(params.ExperimentParams().__dict__)\n",
    "for key, value in exp_params_init.__dict__.items():\n",
    "    value_type = type(value)\n",
    "    if value_type is int or value_type is float:\n",
    "        exp_params_init.__dict__[key] = value_type(random.randint(0, 100))\n",
    "\n",
    "alg_params_init = [TestAlgParams(), TestAlgParams2()]\n",
    "\n",
    "alg_params_init[0].array_param = np.array([1, 2, 3, 4], dtype=np.float64)\n",
    "alg_params_init[0].matrix_param = np.full((2, 3), -1, dtype=np.float64)\n",
    "\n",
    "for curr_alg_param in alg_params_init:\n",
    "    for key, value in curr_alg_param.__dict__.items():\n",
    "        value_type = type(value)\n",
    "        if value_type is int or value_type is float:\n",
    "            curr_alg_param.__dict__[key] = value_type(random.randint(0, 100))\n",
    "\n",
    "xml_io.create_config_file(config_file, alg_params_init, exp_params_init)"
   ]
  },
  {
   "cell_type": "code",
   "execution_count": 13,
   "metadata": {},
   "outputs": [
    {
     "name": "stdout",
     "output_type": "stream",
     "text": [
      "[test_alg: {'a_param': 17, 'b_param': 43.0, 'c_param': False, 'd_param': 'abc', 'array_param': array([1., 2., 3., 4.]), 'matrix_param': array([[-1., -1., -1.],\n",
      "       [-1., -1., -1.]])}, test2_alg: {'a_param': 25, 'b_param': 26.0, 'c_param': False, 'd_param': 'abc'}]\n",
      "\n",
      "OK\n"
     ]
    }
   ],
   "source": [
    "exp_params, alg_params = xml_io.read_xml_config(config_file)\n",
    "\n",
    "print(alg_params)\n",
    "print()\n",
    "\n",
    "for key, value in exp_params_init.__dict__.items():\n",
    "    assert exp_params_init.__dict__[key] == exp_params.__dict__[key]\n",
    "\n",
    "for i, curr_alg_params in enumerate(alg_params):\n",
    "    for key, value in curr_alg_params.__dict__.items():\n",
    "        assert np.all(alg_params_init[i].__dict__[key] == curr_alg_params.__dict__[key])\n",
    "\n",
    "print(\"OK\")"
   ]
  },
  {
   "cell_type": "code",
   "execution_count": null,
   "metadata": {},
   "outputs": [],
   "source": []
  }
 ],
 "metadata": {
  "kernelspec": {
   "display_name": "base",
   "language": "python",
   "name": "python3"
  },
  "language_info": {
   "codemirror_mode": {
    "name": "ipython",
    "version": 3
   },
   "file_extension": ".py",
   "mimetype": "text/x-python",
   "name": "python",
   "nbconvert_exporter": "python",
   "pygments_lexer": "ipython3",
   "version": "3.11.10"
  }
 },
 "nbformat": 4,
 "nbformat_minor": 4
}
